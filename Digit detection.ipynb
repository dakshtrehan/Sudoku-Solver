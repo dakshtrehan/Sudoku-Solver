{
 "cells": [
  {
   "cell_type": "code",
   "execution_count": 7,
   "metadata": {},
   "outputs": [],
   "source": [
    "import numpy as np\n",
    "from sklearn.svm import LinearSVC\n",
    "import os\n",
    "import cv2\n",
    "import joblib"
   ]
  },
  {
   "cell_type": "code",
   "execution_count": 9,
   "metadata": {},
   "outputs": [],
   "source": [
    "# Generate training set\n",
    "TRAIN_PATH = \"./Dataset/Train\"\n",
    "list_folder = os.listdir(TRAIN_PATH)\n",
    "trainset = []\n",
    "for folder in list_folder:\n",
    "    flist = os.listdir(os.path.join(TRAIN_PATH, folder))\n",
    "    for f in flist:\n",
    "        im = cv2.imread(os.path.join(TRAIN_PATH, folder, f))\n",
    "        im = cv2.cvtColor(im, cv2.COLOR_RGB2GRAY )\n",
    "        im = cv2.resize(im, (36,36))\n",
    "        trainset.append(im)\n",
    "# Labeling for trainset\n",
    "train_label = []\n",
    "for i in range(0,10):\n",
    "    temp = 500*[i]\n",
    "    train_label += temp"
   ]
  },
  {
   "cell_type": "code",
   "execution_count": 10,
   "metadata": {},
   "outputs": [],
   "source": [
    "# Generate testing set\n",
    "TEST_PATH = \".\\Dataset\\Test\"\n",
    "list_folder = os.listdir(TEST_PATH)\n",
    "testset = []\n",
    "test_label = []\n",
    "for folder in list_folder:\n",
    "    flist = os.listdir(os.path.join(TEST_PATH, folder))\n",
    "    for f in flist:\n",
    "        im = cv2.imread(os.path.join(TEST_PATH, folder, f))\n",
    "        im = cv2.cvtColor(im, cv2.COLOR_RGB2GRAY )\n",
    "        im = cv2.resize(im, (36,36))\n",
    "        testset.append(im)\n",
    "        test_label.append(int(folder))\n",
    "trainset = np.reshape(trainset, (5000, -1))\n"
   ]
  },
  {
   "cell_type": "code",
   "execution_count": 11,
   "metadata": {},
   "outputs": [
    {
     "name": "stdout",
     "output_type": "stream",
     "text": [
      "Training finished successfully\n",
      "Testing accuracy: 0.9635130771714563\n"
     ]
    },
    {
     "name": "stderr",
     "output_type": "stream",
     "text": [
      "c:\\program files\\python37\\lib\\site-packages\\sklearn\\svm\\base.py:929: ConvergenceWarning: Liblinear failed to converge, increase the number of iterations.\n",
      "  \"the number of iterations.\", ConvergenceWarning)\n"
     ]
    }
   ],
   "source": [
    "# Create an linear SVM object\n",
    "clf = LinearSVC()\n",
    "\n",
    "# Perform the training\n",
    "clf.fit(trainset, train_label)\n",
    "print(\"Training finished successfully\")\n",
    "\n",
    "# Testing\n",
    "testset = np.reshape(testset, (len(testset), -1))\n",
    "y = clf.predict(testset)\n",
    "print(\"Testing accuracy: \" + str(clf.score(testset, test_label)))\n"
   ]
  },
  {
   "cell_type": "code",
   "execution_count": null,
   "metadata": {},
   "outputs": [],
   "source": []
  }
 ],
 "metadata": {
  "kernelspec": {
   "display_name": "Python 3",
   "language": "python",
   "name": "python3"
  },
  "language_info": {
   "codemirror_mode": {
    "name": "ipython",
    "version": 3
   },
   "file_extension": ".py",
   "mimetype": "text/x-python",
   "name": "python",
   "nbconvert_exporter": "python",
   "pygments_lexer": "ipython3",
   "version": "3.7.3"
  }
 },
 "nbformat": 4,
 "nbformat_minor": 2
}
