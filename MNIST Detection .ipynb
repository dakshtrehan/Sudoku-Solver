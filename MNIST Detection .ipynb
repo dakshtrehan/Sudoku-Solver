{
  "nbformat": 4,
  "nbformat_minor": 0,
  "metadata": {
    "colab": {
      "name": "Untitled3.ipynb",
      "provenance": [],
      "collapsed_sections": [],
      "authorship_tag": "ABX9TyMY6C7HAle84I//muqwrVSl",
      "include_colab_link": true
    },
    "kernelspec": {
      "name": "python3",
      "display_name": "Python 3"
    },
    "accelerator": "GPU"
  },
  "cells": [
    {
      "cell_type": "markdown",
      "metadata": {
        "id": "view-in-github",
        "colab_type": "text"
      },
      "source": [
        "<a href=\"https://colab.research.google.com/github/dakshtrehan/Sudoku-Solver/blob/master/MNIST%20Detection%20.ipynb\" target=\"_parent\"><img src=\"https://colab.research.google.com/assets/colab-badge.svg\" alt=\"Open In Colab\"/></a>"
      ]
    },
    {
      "cell_type": "code",
      "metadata": {
        "id": "8bTmiXqFRZ_f",
        "colab_type": "code",
        "outputId": "3ec28519-d0ef-4d31-ff6e-5687604f5e64",
        "colab": {
          "base_uri": "https://localhost:8080/",
          "height": 35
        }
      },
      "source": [
        "from __future__ import print_function\n",
        "import keras\n",
        "from keras.datasets import mnist\n",
        "from keras.models import Sequential\n",
        "from keras.layers import Dense, Dropout, Flatten\n",
        "from keras.layers import Conv2D, MaxPooling2D\n",
        "from keras import backend as K"
      ],
      "execution_count": 1,
      "outputs": [
        {
          "output_type": "stream",
          "text": [
            "Using TensorFlow backend.\n"
          ],
          "name": "stderr"
        }
      ]
    },
    {
      "cell_type": "code",
      "metadata": {
        "id": "lgQpVq5eRj7t",
        "colab_type": "code",
        "colab": {}
      },
      "source": [
        "batch_size = 128\n",
        "num_classes = 10\n",
        "epochs = 12"
      ],
      "execution_count": 0,
      "outputs": []
    },
    {
      "cell_type": "code",
      "metadata": {
        "id": "jA07gHuARls6",
        "colab_type": "code",
        "outputId": "33666002-93ba-485c-d533-c733568fe6fe",
        "colab": {
          "base_uri": "https://localhost:8080/",
          "height": 54
        }
      },
      "source": [
        "img_rows, img_cols = 28, 28\n",
        "\n",
        "# the data, split between train and test sets\n",
        "(x_train, y_train), (x_test, y_test) = mnist.load_data()"
      ],
      "execution_count": 3,
      "outputs": [
        {
          "output_type": "stream",
          "text": [
            "Downloading data from https://s3.amazonaws.com/img-datasets/mnist.npz\n",
            "11493376/11490434 [==============================] - 2s 0us/step\n"
          ],
          "name": "stdout"
        }
      ]
    },
    {
      "cell_type": "code",
      "metadata": {
        "id": "ildKRinkRnMv",
        "colab_type": "code",
        "colab": {}
      },
      "source": [
        "if K.image_data_format() == 'channels_first':\n",
        "    x_train = x_train.reshape(x_train.shape[0], 1, img_rows, img_cols)\n",
        "    x_test = x_test.reshape(x_test.shape[0], 1, img_rows, img_cols)\n",
        "    input_shape = (1, img_rows, img_cols)\n",
        "else:\n",
        "    x_train = x_train.reshape(x_train.shape[0], img_rows, img_cols, 1)\n",
        "    x_test = x_test.reshape(x_test.shape[0], img_rows, img_cols, 1)\n",
        "    input_shape = (img_rows, img_cols, 1)"
      ],
      "execution_count": 0,
      "outputs": []
    },
    {
      "cell_type": "code",
      "metadata": {
        "id": "zABIOoKHRqQE",
        "colab_type": "code",
        "outputId": "e8bb57a3-afb5-4096-c717-beb523e90816",
        "colab": {
          "base_uri": "https://localhost:8080/",
          "height": 72
        }
      },
      "source": [
        "x_train = x_train.astype('float32')\n",
        "x_test = x_test.astype('float32')\n",
        "x_train /= 255\n",
        "x_test /= 255\n",
        "print('x_train shape:', x_train.shape)\n",
        "print(x_train.shape[0], 'train samples')\n",
        "print(x_test.shape[0], 'test samples')\n",
        "\n",
        "# convert class vectors to binary class matrices\n",
        "y_train = keras.utils.to_categorical(y_train, num_classes)\n",
        "y_test = keras.utils.to_categorical(y_test, num_classes)"
      ],
      "execution_count": 5,
      "outputs": [
        {
          "output_type": "stream",
          "text": [
            "x_train shape: (60000, 28, 28, 1)\n",
            "60000 train samples\n",
            "10000 test samples\n"
          ],
          "name": "stdout"
        }
      ]
    },
    {
      "cell_type": "code",
      "metadata": {
        "id": "2LZLOB0FRsaZ",
        "colab_type": "code",
        "colab": {}
      },
      "source": [
        "model = Sequential()\n",
        "model.add(Conv2D(32, kernel_size=(3, 3),\n",
        "                 activation='relu',\n",
        "                 input_shape=input_shape))\n",
        "model.add(Conv2D(64, (3, 3), activation='relu'))\n",
        "model.add(MaxPooling2D(pool_size=(2, 2)))\n",
        "model.add(Dropout(0.25))\n",
        "model.add(Flatten())\n",
        "model.add(Dense(128, activation='relu'))\n",
        "model.add(Dropout(0.5))\n",
        "model.add(Dense(num_classes, activation='softmax'))"
      ],
      "execution_count": 0,
      "outputs": []
    },
    {
      "cell_type": "code",
      "metadata": {
        "id": "xgFEqaT0RuS8",
        "colab_type": "code",
        "colab": {}
      },
      "source": [
        "model.compile(loss=keras.losses.categorical_crossentropy,\n",
        "              optimizer=keras.optimizers.Adadelta(),\n",
        "              metrics=['accuracy'])"
      ],
      "execution_count": 0,
      "outputs": []
    },
    {
      "cell_type": "code",
      "metadata": {
        "id": "oD69bd2XRwEq",
        "colab_type": "code",
        "outputId": "c9daf48c-880c-49ac-a22b-7988cb4cdfd2",
        "colab": {
          "base_uri": "https://localhost:8080/",
          "height": 495
        }
      },
      "source": [
        "model.fit(x_train, y_train,\n",
        "          batch_size=batch_size,\n",
        "          epochs=epochs,\n",
        "          verbose=1,\n",
        "          validation_data=(x_test, y_test))"
      ],
      "execution_count": 8,
      "outputs": [
        {
          "output_type": "stream",
          "text": [
            "Train on 60000 samples, validate on 10000 samples\n",
            "Epoch 1/12\n",
            "60000/60000 [==============================] - 15s 244us/step - loss: 0.2624 - accuracy: 0.9186 - val_loss: 0.0635 - val_accuracy: 0.9797\n",
            "Epoch 2/12\n",
            "60000/60000 [==============================] - 8s 141us/step - loss: 0.0899 - accuracy: 0.9729 - val_loss: 0.0404 - val_accuracy: 0.9864\n",
            "Epoch 3/12\n",
            "60000/60000 [==============================] - 9s 145us/step - loss: 0.0659 - accuracy: 0.9797 - val_loss: 0.0441 - val_accuracy: 0.9854\n",
            "Epoch 4/12\n",
            "60000/60000 [==============================] - 9s 144us/step - loss: 0.0552 - accuracy: 0.9842 - val_loss: 0.0316 - val_accuracy: 0.9885\n",
            "Epoch 5/12\n",
            "60000/60000 [==============================] - 9s 146us/step - loss: 0.0461 - accuracy: 0.9864 - val_loss: 0.0362 - val_accuracy: 0.9886\n",
            "Epoch 6/12\n",
            "60000/60000 [==============================] - 9s 142us/step - loss: 0.0411 - accuracy: 0.9879 - val_loss: 0.0290 - val_accuracy: 0.9906\n",
            "Epoch 7/12\n",
            "60000/60000 [==============================] - 9s 142us/step - loss: 0.0374 - accuracy: 0.9886 - val_loss: 0.0307 - val_accuracy: 0.9904\n",
            "Epoch 8/12\n",
            "60000/60000 [==============================] - 8s 141us/step - loss: 0.0333 - accuracy: 0.9898 - val_loss: 0.0281 - val_accuracy: 0.9907\n",
            "Epoch 9/12\n",
            "60000/60000 [==============================] - 9s 142us/step - loss: 0.0316 - accuracy: 0.9901 - val_loss: 0.0320 - val_accuracy: 0.9902\n",
            "Epoch 10/12\n",
            "60000/60000 [==============================] - 8s 142us/step - loss: 0.0297 - accuracy: 0.9911 - val_loss: 0.0272 - val_accuracy: 0.9917\n",
            "Epoch 11/12\n",
            "60000/60000 [==============================] - 8s 141us/step - loss: 0.0272 - accuracy: 0.9918 - val_loss: 0.0290 - val_accuracy: 0.9911\n",
            "Epoch 12/12\n",
            "60000/60000 [==============================] - 9s 142us/step - loss: 0.0253 - accuracy: 0.9920 - val_loss: 0.0287 - val_accuracy: 0.9913\n"
          ],
          "name": "stdout"
        },
        {
          "output_type": "execute_result",
          "data": {
            "text/plain": [
              "<keras.callbacks.callbacks.History at 0x7fae7038d390>"
            ]
          },
          "metadata": {
            "tags": []
          },
          "execution_count": 8
        }
      ]
    },
    {
      "cell_type": "code",
      "metadata": {
        "id": "X4HIUkObRxw8",
        "colab_type": "code",
        "outputId": "0b0b60db-9d6b-4185-8a25-c31cd9b291f8",
        "colab": {
          "base_uri": "https://localhost:8080/",
          "height": 54
        }
      },
      "source": [
        "score = model.evaluate(x_test, y_test, verbose=0)\n",
        "print('Test loss:', score[0])\n",
        "print('Test accuracy:', score[1])"
      ],
      "execution_count": 9,
      "outputs": [
        {
          "output_type": "stream",
          "text": [
            "Test loss: 0.028729447688915753\n",
            "Test accuracy: 0.9912999868392944\n"
          ],
          "name": "stdout"
        }
      ]
    },
    {
      "cell_type": "code",
      "metadata": {
        "id": "OGGr3NPJSEFP",
        "colab_type": "code",
        "outputId": "a0ef1b06-cf6b-4fba-ca0b-291208ee0ef3",
        "colab": {
          "base_uri": "https://localhost:8080/",
          "height": 35
        }
      },
      "source": [
        "from PIL import Image\n",
        "import numpy as np\n",
        "img = Image.open('/content/4.jpeg').convert(\"L\")\n",
        "img = np.resize(img, (28,28,1))\n",
        "im2arr = np.array(img)\n",
        "im2arr = im2arr.reshape(1,28,28,1)\n",
        "y_pred = model.predict_classes(im2arr)\n",
        "print(y_pred)"
      ],
      "execution_count": 25,
      "outputs": [
        {
          "output_type": "stream",
          "text": [
            "[8]\n"
          ],
          "name": "stdout"
        }
      ]
    },
    {
      "cell_type": "code",
      "metadata": {
        "id": "f1WNny0nSG-R",
        "colab_type": "code",
        "colab": {
          "base_uri": "https://localhost:8080/",
          "height": 35
        },
        "outputId": "2b035aa2-4f71-43b1-8c6e-34e2aa6b0331"
      },
      "source": [
        "type(image2)"
      ],
      "execution_count": 22,
      "outputs": [
        {
          "output_type": "execute_result",
          "data": {
            "text/plain": [
              "PIL.Image.Image"
            ]
          },
          "metadata": {
            "tags": []
          },
          "execution_count": 22
        }
      ]
    },
    {
      "cell_type": "code",
      "metadata": {
        "id": "aryYSZ9-kcwk",
        "colab_type": "code",
        "colab": {}
      },
      "source": [
        ""
      ],
      "execution_count": 0,
      "outputs": []
    }
  ]
}